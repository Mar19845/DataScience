{
 "cells": [
  {
   "cell_type": "markdown",
   "id": "76830f35-a145-4582-bb75-4a9e3c825c03",
   "metadata": {},
   "source": [
    "# Universidad del Valle de Guatemala\n",
    "\n",
    "\n",
    "##### Create a virtual env and run pip install -r requirements.txt\n",
    "##### Laboratorio 6: Autocodificadores\n",
    "* Juan Marroquin 19845\n",
    "* Carlos Raxtum 19721"
   ]
  },
  {
   "cell_type": "markdown",
   "id": "07f7f4b7-b06e-42ad-aaa8-53d55520fb55",
   "metadata": {},
   "source": [
    "import libraries "
   ]
  },
  {
   "cell_type": "code",
   "execution_count": 1,
   "id": "453defd6-605d-4c48-a15d-634508d42197",
   "metadata": {},
   "outputs": [],
   "source": [
    "import pandas as pd\n",
    "import seaborn as sns\n",
    "import matplotlib.pyplot as plt\n",
    "import numpy as np\n",
    "%matplotlib inline\n",
    "\n",
    "\n",
    "### encoder liberies \n",
    "from tensorflow.keras.models import Sequential\n",
    "from tensorflow.keras.layers import Dense\n",
    "from tensorflow.keras.optimizers import SGD"
   ]
  },
  {
   "cell_type": "markdown",
   "id": "0d7a1126",
   "metadata": {},
   "source": [
    "En la tabla que van a trabajar, se encuentra el consumo promedio de 17 tipos de comida, en gramos por persona por semana, para cada país del Reino Unido (UK).\n",
    "\n",
    "La tabla tiene algunas variaciones interesantes en diferentes tipos de comida, pero a nivel general las diferencias no son tan notables.\n",
    "\n",
    "**TAREA:  Ejecute la siguiente instrucción para leer los datos**\n",
    "\n",
    "Es posible que tenga que modificar la instrucción de acuerdo al lugar donde descargó el archivo."
   ]
  },
  {
   "cell_type": "code",
   "execution_count": 2,
   "id": "76ccd7c3-11e7-46e2-9aba-cc809083e009",
   "metadata": {},
   "outputs": [],
   "source": [
    "df = pd.read_csv('./UK_foods.csv', index_col = 'Unnamed: 0')"
   ]
  },
  {
   "cell_type": "code",
   "execution_count": null,
   "id": "a134011c",
   "metadata": {},
   "outputs": [],
   "source": []
  },
  {
   "cell_type": "markdown",
   "id": "73f26b4a-dc35-4f8a-b77c-e9e376982617",
   "metadata": {},
   "source": [
    "###### Transpose dataframe "
   ]
  },
  {
   "cell_type": "code",
   "execution_count": 3,
   "id": "1cec812d-bcad-4845-948c-001e1428a936",
   "metadata": {},
   "outputs": [],
   "source": [
    "df = df.T"
   ]
  },
  {
   "cell_type": "code",
   "execution_count": 4,
   "id": "01e61611-c2b6-4793-9b0b-39a025ba17dc",
   "metadata": {},
   "outputs": [
    {
     "data": {
      "text/html": [
       "<div>\n",
       "<style scoped>\n",
       "    .dataframe tbody tr th:only-of-type {\n",
       "        vertical-align: middle;\n",
       "    }\n",
       "\n",
       "    .dataframe tbody tr th {\n",
       "        vertical-align: top;\n",
       "    }\n",
       "\n",
       "    .dataframe thead th {\n",
       "        text-align: right;\n",
       "    }\n",
       "</style>\n",
       "<table border=\"1\" class=\"dataframe\">\n",
       "  <thead>\n",
       "    <tr style=\"text-align: right;\">\n",
       "      <th></th>\n",
       "      <th>Cheese</th>\n",
       "      <th>Carcass_meat</th>\n",
       "      <th>Other_meat</th>\n",
       "      <th>Fish</th>\n",
       "      <th>Fats_and_oils</th>\n",
       "      <th>Sugars</th>\n",
       "      <th>Fresh_potatoes</th>\n",
       "      <th>Fresh_Veg</th>\n",
       "      <th>Other_Veg</th>\n",
       "      <th>Processed_potatoes</th>\n",
       "      <th>Processed_Veg</th>\n",
       "      <th>Fresh_fruit</th>\n",
       "      <th>Cereals</th>\n",
       "      <th>Beverages</th>\n",
       "      <th>Soft_drinks</th>\n",
       "      <th>Alcoholic_drinks</th>\n",
       "      <th>Confectionery</th>\n",
       "    </tr>\n",
       "  </thead>\n",
       "  <tbody>\n",
       "    <tr>\n",
       "      <th>England</th>\n",
       "      <td>105</td>\n",
       "      <td>245</td>\n",
       "      <td>685</td>\n",
       "      <td>147</td>\n",
       "      <td>193</td>\n",
       "      <td>156</td>\n",
       "      <td>720</td>\n",
       "      <td>253</td>\n",
       "      <td>488</td>\n",
       "      <td>198</td>\n",
       "      <td>360</td>\n",
       "      <td>1102</td>\n",
       "      <td>1472</td>\n",
       "      <td>57</td>\n",
       "      <td>1374</td>\n",
       "      <td>375</td>\n",
       "      <td>54</td>\n",
       "    </tr>\n",
       "    <tr>\n",
       "      <th>Wales</th>\n",
       "      <td>103</td>\n",
       "      <td>227</td>\n",
       "      <td>803</td>\n",
       "      <td>160</td>\n",
       "      <td>235</td>\n",
       "      <td>175</td>\n",
       "      <td>874</td>\n",
       "      <td>265</td>\n",
       "      <td>570</td>\n",
       "      <td>203</td>\n",
       "      <td>365</td>\n",
       "      <td>1137</td>\n",
       "      <td>1582</td>\n",
       "      <td>73</td>\n",
       "      <td>1256</td>\n",
       "      <td>475</td>\n",
       "      <td>64</td>\n",
       "    </tr>\n",
       "    <tr>\n",
       "      <th>Scotland</th>\n",
       "      <td>103</td>\n",
       "      <td>242</td>\n",
       "      <td>750</td>\n",
       "      <td>122</td>\n",
       "      <td>184</td>\n",
       "      <td>147</td>\n",
       "      <td>566</td>\n",
       "      <td>171</td>\n",
       "      <td>418</td>\n",
       "      <td>220</td>\n",
       "      <td>337</td>\n",
       "      <td>957</td>\n",
       "      <td>1462</td>\n",
       "      <td>53</td>\n",
       "      <td>1572</td>\n",
       "      <td>458</td>\n",
       "      <td>62</td>\n",
       "    </tr>\n",
       "    <tr>\n",
       "      <th>N.Ireland</th>\n",
       "      <td>66</td>\n",
       "      <td>267</td>\n",
       "      <td>586</td>\n",
       "      <td>93</td>\n",
       "      <td>209</td>\n",
       "      <td>139</td>\n",
       "      <td>1033</td>\n",
       "      <td>143</td>\n",
       "      <td>355</td>\n",
       "      <td>187</td>\n",
       "      <td>334</td>\n",
       "      <td>674</td>\n",
       "      <td>1494</td>\n",
       "      <td>47</td>\n",
       "      <td>1506</td>\n",
       "      <td>135</td>\n",
       "      <td>41</td>\n",
       "    </tr>\n",
       "  </tbody>\n",
       "</table>\n",
       "</div>"
      ],
      "text/plain": [
       "           Cheese  Carcass_meat   Other_meat   Fish  Fats_and_oils   Sugars  \\\n",
       "England       105            245          685   147             193     156   \n",
       "Wales         103            227          803   160             235     175   \n",
       "Scotland      103            242          750   122             184     147   \n",
       "N.Ireland      66            267          586    93             209     139   \n",
       "\n",
       "           Fresh_potatoes   Fresh_Veg   Other_Veg   Processed_potatoes   \\\n",
       "England                720         253         488                  198   \n",
       "Wales                  874         265         570                  203   \n",
       "Scotland               566         171         418                  220   \n",
       "N.Ireland             1033         143         355                  187   \n",
       "\n",
       "           Processed_Veg   Fresh_fruit   Cereals   Beverages  Soft_drinks   \\\n",
       "England               360          1102      1472         57          1374   \n",
       "Wales                 365          1137      1582         73          1256   \n",
       "Scotland              337           957      1462         53          1572   \n",
       "N.Ireland             334           674      1494         47          1506   \n",
       "\n",
       "           Alcoholic_drinks   Confectionery   \n",
       "England                  375              54  \n",
       "Wales                    475              64  \n",
       "Scotland                 458              62  \n",
       "N.Ireland                135              41  "
      ]
     },
     "execution_count": 4,
     "metadata": {},
     "output_type": "execute_result"
    }
   ],
   "source": [
    "df.head()"
   ]
  },
  {
   "cell_type": "markdown",
   "id": "e9d3cbe5",
   "metadata": {},
   "source": [
    "**TAREA: Despliegue el DataFrame**"
   ]
  },
  {
   "cell_type": "markdown",
   "id": "1f10771e-e908-4ace-bb33-9d31f065725c",
   "metadata": {},
   "source": [
    "##### Data Frame Info"
   ]
  },
  {
   "cell_type": "code",
   "execution_count": 5,
   "id": "8ddf2309-20e0-4561-8e72-827d32598c72",
   "metadata": {},
   "outputs": [
    {
     "data": {
      "text/plain": [
       "(4, 17)"
      ]
     },
     "execution_count": 5,
     "metadata": {},
     "output_type": "execute_result"
    }
   ],
   "source": [
    "df.shape"
   ]
  },
  {
   "cell_type": "code",
   "execution_count": 6,
   "id": "75e6e47f-fd25-461a-840f-b4fc7aad06ad",
   "metadata": {},
   "outputs": [
    {
     "data": {
      "text/plain": [
       "Index(['Cheese', 'Carcass_meat ', 'Other_meat ', 'Fish', 'Fats_and_oils ',\n",
       "       'Sugars', 'Fresh_potatoes ', 'Fresh_Veg ', 'Other_Veg ',\n",
       "       'Processed_potatoes ', 'Processed_Veg ', 'Fresh_fruit ', 'Cereals ',\n",
       "       'Beverages', 'Soft_drinks ', 'Alcoholic_drinks ', 'Confectionery '],\n",
       "      dtype='object')"
      ]
     },
     "execution_count": 6,
     "metadata": {},
     "output_type": "execute_result"
    }
   ],
   "source": [
    "df.columns"
   ]
  },
  {
   "cell_type": "code",
   "execution_count": 7,
   "id": "3c016565-273a-42d7-bafa-27660f82f440",
   "metadata": {},
   "outputs": [
    {
     "data": {
      "text/plain": [
       "Index(['England', 'Wales', 'Scotland', 'N.Ireland'], dtype='object')"
      ]
     },
     "execution_count": 7,
     "metadata": {},
     "output_type": "execute_result"
    }
   ],
   "source": [
    "df.index"
   ]
  },
  {
   "cell_type": "code",
   "execution_count": 8,
   "id": "638dd3a6-eceb-4b37-a538-9b46ca30326f",
   "metadata": {},
   "outputs": [
    {
     "data": {
      "text/html": [
       "<div>\n",
       "<style scoped>\n",
       "    .dataframe tbody tr th:only-of-type {\n",
       "        vertical-align: middle;\n",
       "    }\n",
       "\n",
       "    .dataframe tbody tr th {\n",
       "        vertical-align: top;\n",
       "    }\n",
       "\n",
       "    .dataframe thead th {\n",
       "        text-align: right;\n",
       "    }\n",
       "</style>\n",
       "<table border=\"1\" class=\"dataframe\">\n",
       "  <thead>\n",
       "    <tr style=\"text-align: right;\">\n",
       "      <th></th>\n",
       "      <th>count</th>\n",
       "      <th>mean</th>\n",
       "      <th>std</th>\n",
       "      <th>min</th>\n",
       "      <th>25%</th>\n",
       "      <th>50%</th>\n",
       "      <th>75%</th>\n",
       "      <th>max</th>\n",
       "    </tr>\n",
       "  </thead>\n",
       "  <tbody>\n",
       "    <tr>\n",
       "      <th>Cheese</th>\n",
       "      <td>4.0</td>\n",
       "      <td>94.25</td>\n",
       "      <td>18.856917</td>\n",
       "      <td>66.0</td>\n",
       "      <td>93.75</td>\n",
       "      <td>103.0</td>\n",
       "      <td>103.50</td>\n",
       "      <td>105.0</td>\n",
       "    </tr>\n",
       "    <tr>\n",
       "      <th>Carcass_meat</th>\n",
       "      <td>4.0</td>\n",
       "      <td>245.25</td>\n",
       "      <td>16.500000</td>\n",
       "      <td>227.0</td>\n",
       "      <td>238.25</td>\n",
       "      <td>243.5</td>\n",
       "      <td>250.50</td>\n",
       "      <td>267.0</td>\n",
       "    </tr>\n",
       "    <tr>\n",
       "      <th>Other_meat</th>\n",
       "      <td>4.0</td>\n",
       "      <td>706.00</td>\n",
       "      <td>93.427334</td>\n",
       "      <td>586.0</td>\n",
       "      <td>660.25</td>\n",
       "      <td>717.5</td>\n",
       "      <td>763.25</td>\n",
       "      <td>803.0</td>\n",
       "    </tr>\n",
       "    <tr>\n",
       "      <th>Fish</th>\n",
       "      <td>4.0</td>\n",
       "      <td>130.50</td>\n",
       "      <td>29.557853</td>\n",
       "      <td>93.0</td>\n",
       "      <td>114.75</td>\n",
       "      <td>134.5</td>\n",
       "      <td>150.25</td>\n",
       "      <td>160.0</td>\n",
       "    </tr>\n",
       "    <tr>\n",
       "      <th>Fats_and_oils</th>\n",
       "      <td>4.0</td>\n",
       "      <td>205.25</td>\n",
       "      <td>22.366269</td>\n",
       "      <td>184.0</td>\n",
       "      <td>190.75</td>\n",
       "      <td>201.0</td>\n",
       "      <td>215.50</td>\n",
       "      <td>235.0</td>\n",
       "    </tr>\n",
       "    <tr>\n",
       "      <th>Sugars</th>\n",
       "      <td>4.0</td>\n",
       "      <td>154.25</td>\n",
       "      <td>15.478480</td>\n",
       "      <td>139.0</td>\n",
       "      <td>145.00</td>\n",
       "      <td>151.5</td>\n",
       "      <td>160.75</td>\n",
       "      <td>175.0</td>\n",
       "    </tr>\n",
       "    <tr>\n",
       "      <th>Fresh_potatoes</th>\n",
       "      <td>4.0</td>\n",
       "      <td>798.25</td>\n",
       "      <td>200.755863</td>\n",
       "      <td>566.0</td>\n",
       "      <td>681.50</td>\n",
       "      <td>797.0</td>\n",
       "      <td>913.75</td>\n",
       "      <td>1033.0</td>\n",
       "    </tr>\n",
       "    <tr>\n",
       "      <th>Fresh_Veg</th>\n",
       "      <td>4.0</td>\n",
       "      <td>208.00</td>\n",
       "      <td>60.188592</td>\n",
       "      <td>143.0</td>\n",
       "      <td>164.00</td>\n",
       "      <td>212.0</td>\n",
       "      <td>256.00</td>\n",
       "      <td>265.0</td>\n",
       "    </tr>\n",
       "    <tr>\n",
       "      <th>Other_Veg</th>\n",
       "      <td>4.0</td>\n",
       "      <td>457.75</td>\n",
       "      <td>92.471167</td>\n",
       "      <td>355.0</td>\n",
       "      <td>402.25</td>\n",
       "      <td>453.0</td>\n",
       "      <td>508.50</td>\n",
       "      <td>570.0</td>\n",
       "    </tr>\n",
       "    <tr>\n",
       "      <th>Processed_potatoes</th>\n",
       "      <td>4.0</td>\n",
       "      <td>202.00</td>\n",
       "      <td>13.735599</td>\n",
       "      <td>187.0</td>\n",
       "      <td>195.25</td>\n",
       "      <td>200.5</td>\n",
       "      <td>207.25</td>\n",
       "      <td>220.0</td>\n",
       "    </tr>\n",
       "    <tr>\n",
       "      <th>Processed_Veg</th>\n",
       "      <td>4.0</td>\n",
       "      <td>349.00</td>\n",
       "      <td>15.769168</td>\n",
       "      <td>334.0</td>\n",
       "      <td>336.25</td>\n",
       "      <td>348.5</td>\n",
       "      <td>361.25</td>\n",
       "      <td>365.0</td>\n",
       "    </tr>\n",
       "    <tr>\n",
       "      <th>Fresh_fruit</th>\n",
       "      <td>4.0</td>\n",
       "      <td>967.50</td>\n",
       "      <td>210.612599</td>\n",
       "      <td>674.0</td>\n",
       "      <td>886.25</td>\n",
       "      <td>1029.5</td>\n",
       "      <td>1110.75</td>\n",
       "      <td>1137.0</td>\n",
       "    </tr>\n",
       "    <tr>\n",
       "      <th>Cereals</th>\n",
       "      <td>4.0</td>\n",
       "      <td>1502.50</td>\n",
       "      <td>54.659552</td>\n",
       "      <td>1462.0</td>\n",
       "      <td>1469.50</td>\n",
       "      <td>1483.0</td>\n",
       "      <td>1516.00</td>\n",
       "      <td>1582.0</td>\n",
       "    </tr>\n",
       "    <tr>\n",
       "      <th>Beverages</th>\n",
       "      <td>4.0</td>\n",
       "      <td>57.50</td>\n",
       "      <td>11.120552</td>\n",
       "      <td>47.0</td>\n",
       "      <td>51.50</td>\n",
       "      <td>55.0</td>\n",
       "      <td>61.00</td>\n",
       "      <td>73.0</td>\n",
       "    </tr>\n",
       "    <tr>\n",
       "      <th>Soft_drinks</th>\n",
       "      <td>4.0</td>\n",
       "      <td>1427.00</td>\n",
       "      <td>140.612944</td>\n",
       "      <td>1256.0</td>\n",
       "      <td>1344.50</td>\n",
       "      <td>1440.0</td>\n",
       "      <td>1522.50</td>\n",
       "      <td>1572.0</td>\n",
       "    </tr>\n",
       "    <tr>\n",
       "      <th>Alcoholic_drinks</th>\n",
       "      <td>4.0</td>\n",
       "      <td>360.75</td>\n",
       "      <td>156.712848</td>\n",
       "      <td>135.0</td>\n",
       "      <td>315.00</td>\n",
       "      <td>416.5</td>\n",
       "      <td>462.25</td>\n",
       "      <td>475.0</td>\n",
       "    </tr>\n",
       "    <tr>\n",
       "      <th>Confectionery</th>\n",
       "      <td>4.0</td>\n",
       "      <td>55.25</td>\n",
       "      <td>10.436315</td>\n",
       "      <td>41.0</td>\n",
       "      <td>50.75</td>\n",
       "      <td>58.0</td>\n",
       "      <td>62.50</td>\n",
       "      <td>64.0</td>\n",
       "    </tr>\n",
       "  </tbody>\n",
       "</table>\n",
       "</div>"
      ],
      "text/plain": [
       "                     count     mean         std     min      25%     50%  \\\n",
       "Cheese                 4.0    94.25   18.856917    66.0    93.75   103.0   \n",
       "Carcass_meat           4.0   245.25   16.500000   227.0   238.25   243.5   \n",
       "Other_meat             4.0   706.00   93.427334   586.0   660.25   717.5   \n",
       "Fish                   4.0   130.50   29.557853    93.0   114.75   134.5   \n",
       "Fats_and_oils          4.0   205.25   22.366269   184.0   190.75   201.0   \n",
       "Sugars                 4.0   154.25   15.478480   139.0   145.00   151.5   \n",
       "Fresh_potatoes         4.0   798.25  200.755863   566.0   681.50   797.0   \n",
       "Fresh_Veg              4.0   208.00   60.188592   143.0   164.00   212.0   \n",
       "Other_Veg              4.0   457.75   92.471167   355.0   402.25   453.0   \n",
       "Processed_potatoes     4.0   202.00   13.735599   187.0   195.25   200.5   \n",
       "Processed_Veg          4.0   349.00   15.769168   334.0   336.25   348.5   \n",
       "Fresh_fruit            4.0   967.50  210.612599   674.0   886.25  1029.5   \n",
       "Cereals                4.0  1502.50   54.659552  1462.0  1469.50  1483.0   \n",
       "Beverages              4.0    57.50   11.120552    47.0    51.50    55.0   \n",
       "Soft_drinks            4.0  1427.00  140.612944  1256.0  1344.50  1440.0   \n",
       "Alcoholic_drinks       4.0   360.75  156.712848   135.0   315.00   416.5   \n",
       "Confectionery          4.0    55.25   10.436315    41.0    50.75    58.0   \n",
       "\n",
       "                         75%     max  \n",
       "Cheese                103.50   105.0  \n",
       "Carcass_meat          250.50   267.0  \n",
       "Other_meat            763.25   803.0  \n",
       "Fish                  150.25   160.0  \n",
       "Fats_and_oils         215.50   235.0  \n",
       "Sugars                160.75   175.0  \n",
       "Fresh_potatoes        913.75  1033.0  \n",
       "Fresh_Veg             256.00   265.0  \n",
       "Other_Veg             508.50   570.0  \n",
       "Processed_potatoes    207.25   220.0  \n",
       "Processed_Veg         361.25   365.0  \n",
       "Fresh_fruit          1110.75  1137.0  \n",
       "Cereals              1516.00  1582.0  \n",
       "Beverages              61.00    73.0  \n",
       "Soft_drinks          1522.50  1572.0  \n",
       "Alcoholic_drinks      462.25   475.0  \n",
       "Confectionery          62.50    64.0  "
      ]
     },
     "execution_count": 8,
     "metadata": {},
     "output_type": "execute_result"
    }
   ],
   "source": [
    "df.describe().transpose()"
   ]
  },
  {
   "cell_type": "markdown",
   "id": "c15ca216-9a4c-4716-a86e-076d179c9d62",
   "metadata": {},
   "source": [
    "##### Color Map of DataFrame"
   ]
  },
  {
   "cell_type": "code",
   "execution_count": 9,
   "id": "ebd9982b-3bf3-418e-877d-694cf8c9c743",
   "metadata": {},
   "outputs": [
    {
     "data": {
      "text/plain": [
       "<AxesSubplot:>"
      ]
     },
     "execution_count": 9,
     "metadata": {},
     "output_type": "execute_result"
    },
    {
     "data": {
      "image/png": "[encoded data removed]",
      "text/plain": [
       "<Figure size 1000x800 with 2 Axes>"
      ]
     },
     "metadata": {},
     "output_type": "display_data"
    }
   ],
   "source": [
    "plt.figure(figsize=(10,8))\n",
    "sns.heatmap(df.transpose(),cmap=\"BuPu\")"
   ]
  },
  {
   "cell_type": "markdown",
   "id": "b33b150b-b2a7-47b9-9e81-56c0879017d5",
   "metadata": {},
   "source": [
    "¿Existe algún país que sobresalga por diferencia de los otros?  Puede ser bastante difícil determinar esto solo por la imagen.\n",
    "\n",
    "* Se puede observar que en Gales existe mas variacion a la hora del consumo de alimentos, asi mismo en Irlanda del Norte, existe una menor variacion a la hora de comer, se puede apreciar que suelen comer lo mismo\n",
    "\n",
    "¿Habrá algún par de países que parezcan muy similares entre si?\n",
    "* Inglatera y Gales comparte un mapa de calor similar, aunque como se menciono anteriormente, que Gales es mas variado, esto a que en ciertas comidas hay mas consumo por parte de los Galeses. El porque de que estos paises compartan un mapa de color muy similar se debe a la cercacina que estos tienen y todos los lazos historicos que hacen que las costumbres y comidas sean muy similares, a comparacion de los otros dos paises del Reino Unido"
   ]
  },
  {
   "cell_type": "markdown",
   "id": "7d5195c5",
   "metadata": {},
   "source": [
    "**TAREA:  Realice las importaciones necesarias para construir un AutoCodificador.  La meta será reducir las dimensiones de 17 --> 2 y ver si hay países que resalten como diferentes.**"
   ]
  },
  {
   "cell_type": "code",
   "execution_count": 10,
   "id": "90da4f09",
   "metadata": {},
   "outputs": [],
   "source": [
    "from tensorflow.keras.models import Sequential\n",
    "from tensorflow.keras.layers import Dense\n",
    "from tensorflow.keras.optimizers import SGD"
   ]
  },
  {
   "cell_type": "markdown",
   "id": "962b8ab6-27bc-4c3e-97ec-989cb09865f9",
   "metadata": {},
   "source": [
    "#### Create an encoder"
   ]
  },
  {
   "cell_type": "code",
   "execution_count": 11,
   "id": "80562779",
   "metadata": {},
   "outputs": [],
   "source": [
    "encoder = Sequential()\n",
    "encoder.add(Dense(units=8,activation='relu',input_shape=[17]))\n",
    "encoder.add(Dense(units=4,activation='relu',input_shape=[8]))\n",
    "encoder.add(Dense(units=2,activation='relu',input_shape=[4]))"
   ]
  },
  {
   "cell_type": "markdown",
   "id": "ddfbce5d-feab-4d15-85b2-adae53683a47",
   "metadata": {},
   "source": [
    "#### Create a decoder"
   ]
  },
  {
   "cell_type": "code",
   "execution_count": 12,
   "id": "40cd56c9",
   "metadata": {},
   "outputs": [],
   "source": [
    "decoder = Sequential()\n",
    "decoder.add(Dense(units=4,activation='relu',input_shape=[2]))\n",
    "decoder.add(Dense(units=8,activation='relu',input_shape=[4]))\n",
    "decoder.add(Dense(units=17,activation='relu',input_shape=[8]))"
   ]
  },
  {
   "cell_type": "code",
   "execution_count": 13,
   "id": "d7673572",
   "metadata": {},
   "outputs": [],
   "source": [
    "eliminador_ruido = Sequential([encoder, \n",
    "                               decoder])"
   ]
  },
  {
   "cell_type": "code",
   "execution_count": 14,
   "id": "ba0d1390",
   "metadata": {},
   "outputs": [],
   "source": [
    "eliminador_ruido.compile(loss = \"binary_crossentropy\", \n",
    "                         optimizer = 'adam', \n",
    "                         metrics =['accuracy'])"
   ]
  },
  {
   "cell_type": "markdown",
   "id": "a930e1ee-ab09-472a-8eef-64fa9c079176",
   "metadata": {},
   "source": [
    "#### Combine the encoder and decoder to be an autoencoder"
   ]
  },
  {
   "cell_type": "code",
   "execution_count": 15,
   "id": "19dd1407",
   "metadata": {},
   "outputs": [
    {
     "name": "stderr",
     "output_type": "stream",
     "text": [
      "C:\\Users\\CRaxtun\\AppData\\Roaming\\Python\\Python39\\site-packages\\keras\\optimizers\\optimizer_v2\\gradient_descent.py:108: UserWarning: The `lr` argument is deprecated, use `learning_rate` instead.\n",
      "  super(SGD, self).__init__(name, **kwargs)\n"
     ]
    }
   ],
   "source": [
    "autoencoder = Sequential([encoder,decoder])\n",
    "autoencoder.compile(loss=\"mse\" ,optimizer=SGD(lr=1.5))"
   ]
  },
  {
   "cell_type": "markdown",
   "id": "51992f37-7390-45a2-b33f-3b4ce73ca56b",
   "metadata": {},
   "source": [
    "#### Create a MinMaxScaler to scale the data"
   ]
  },
  {
   "cell_type": "code",
   "execution_count": 16,
   "id": "f6eb661b",
   "metadata": {},
   "outputs": [],
   "source": [
    "from sklearn.preprocessing import MinMaxScaler"
   ]
  },
  {
   "cell_type": "code",
   "execution_count": 17,
   "id": "29e1dadc",
   "metadata": {},
   "outputs": [
    {
     "data": {
      "text/plain": [
       "array([[0.03596615, 0.0256917 , 0.03291639, 0.01706485],\n",
       "       [0.13469676, 0.10737813, 0.12442396, 0.15426621],\n",
       "       [0.44499295, 0.48682477, 0.45885451, 0.37201365],\n",
       "       [0.06558533, 0.06324111, 0.04542462, 0.03549488],\n",
       "       [0.09802539, 0.11264822, 0.08624095, 0.11467577],\n",
       "       [0.0719323 , 0.07312253, 0.06188282, 0.0668942 ],\n",
       "       [0.4696756 , 0.53359684, 0.33772219, 0.67713311],\n",
       "       [0.1403385 , 0.13241107, 0.07768269, 0.06962457],\n",
       "       [0.30606488, 0.33333333, 0.24028966, 0.21433447],\n",
       "       [0.10155148, 0.09156785, 0.10994075, 0.0996587 ],\n",
       "       [0.2157969 , 0.19828722, 0.18696511, 0.2       ],\n",
       "       [0.73906911, 0.70685112, 0.59512837, 0.43208191],\n",
       "       [1.        , 1.        , 0.92758394, 0.99180887],\n",
       "       [0.00211566, 0.00592885, 0.        , 0.00409556],\n",
       "       [0.93088858, 0.78524374, 1.        , 1.        ],\n",
       "       [0.22637518, 0.27075099, 0.26662278, 0.06416382],\n",
       "       [0.        , 0.        , 0.00592495, 0.        ]])"
      ]
     },
     "execution_count": 17,
     "metadata": {},
     "output_type": "execute_result"
    }
   ],
   "source": [
    "scaler = MinMaxScaler()\n",
    "scaled_df = scaler.fit_transform(df.transpose().values)\n",
    "scaled_df"
   ]
  },
  {
   "cell_type": "markdown",
   "id": "b22be60d-02f8-4ce7-aebc-f886b6c4c490",
   "metadata": {},
   "source": [
    "#### Fit the autoencoder to the scaled data for 15 epochs"
   ]
  },
  {
   "cell_type": "code",
   "execution_count": 18,
   "id": "64006ad2",
   "metadata": {},
   "outputs": [
    {
     "name": "stdout",
     "output_type": "stream",
     "text": [
      "Epoch 1/15\n"
     ]
    },
    {
     "ename": "ValueError",
     "evalue": "in user code:\n\n    File \"C:\\Users\\CRaxtun\\AppData\\Roaming\\Python\\Python39\\site-packages\\keras\\engine\\training.py\", line 1051, in train_function  *\n        return step_function(self, iterator)\n    File \"C:\\Users\\CRaxtun\\AppData\\Roaming\\Python\\Python39\\site-packages\\keras\\engine\\training.py\", line 1040, in step_function  **\n        outputs = model.distribute_strategy.run(run_step, args=(data,))\n    File \"C:\\Users\\CRaxtun\\AppData\\Roaming\\Python\\Python39\\site-packages\\keras\\engine\\training.py\", line 1030, in run_step  **\n        outputs = model.train_step(data)\n    File \"C:\\Users\\CRaxtun\\AppData\\Roaming\\Python\\Python39\\site-packages\\keras\\engine\\training.py\", line 889, in train_step\n        y_pred = self(x, training=True)\n    File \"C:\\Users\\CRaxtun\\AppData\\Roaming\\Python\\Python39\\site-packages\\keras\\utils\\traceback_utils.py\", line 67, in error_handler\n        raise e.with_traceback(filtered_tb) from None\n    File \"C:\\Users\\CRaxtun\\AppData\\Roaming\\Python\\Python39\\site-packages\\keras\\engine\\input_spec.py\", line 264, in assert_input_compatibility\n        raise ValueError(f'Input {input_index} of layer \"{layer_name}\" is '\n\n    ValueError: Input 0 of layer \"sequential_3\" is incompatible with the layer: expected shape=(None, 17), found shape=(None, 4)\n",
     "output_type": "error",
     "traceback": [
      "\u001b[1;31m---------------------------------------------------------------------------\u001b[0m",
      "\u001b[1;31mValueError\u001b[0m                                Traceback (most recent call last)",
      "Cell \u001b[1;32mIn [18], line 1\u001b[0m\n\u001b[1;32m----> 1\u001b[0m \u001b[43mautoencoder\u001b[49m\u001b[38;5;241;43m.\u001b[39;49m\u001b[43mfit\u001b[49m\u001b[43m(\u001b[49m\u001b[43mscaled_df\u001b[49m\u001b[43m,\u001b[49m\u001b[43mscaled_df\u001b[49m\u001b[43m,\u001b[49m\u001b[43mepochs\u001b[49m\u001b[38;5;241;43m=\u001b[39;49m\u001b[38;5;241;43m15\u001b[39;49m\u001b[43m)\u001b[49m\n",
      "File \u001b[1;32m~\\AppData\\Roaming\\Python\\Python39\\site-packages\\keras\\utils\\traceback_utils.py:67\u001b[0m, in \u001b[0;36mfilter_traceback.<locals>.error_handler\u001b[1;34m(*args, **kwargs)\u001b[0m\n\u001b[0;32m     65\u001b[0m \u001b[38;5;28;01mexcept\u001b[39;00m \u001b[38;5;167;01mException\u001b[39;00m \u001b[38;5;28;01mas\u001b[39;00m e:  \u001b[38;5;66;03m# pylint: disable=broad-except\u001b[39;00m\n\u001b[0;32m     66\u001b[0m   filtered_tb \u001b[38;5;241m=\u001b[39m _process_traceback_frames(e\u001b[38;5;241m.\u001b[39m__traceback__)\n\u001b[1;32m---> 67\u001b[0m   \u001b[38;5;28;01mraise\u001b[39;00m e\u001b[38;5;241m.\u001b[39mwith_traceback(filtered_tb) \u001b[38;5;28;01mfrom\u001b[39;00m \u001b[38;5;28mNone\u001b[39m\n\u001b[0;32m     68\u001b[0m \u001b[38;5;28;01mfinally\u001b[39;00m:\n\u001b[0;32m     69\u001b[0m   \u001b[38;5;28;01mdel\u001b[39;00m filtered_tb\n",
      "File \u001b[1;32m~\\AppData\\Local\\Temp\\__autograph_generated_fileobu4pf4i.py:15\u001b[0m, in \u001b[0;36mouter_factory.<locals>.inner_factory.<locals>.tf__train_function\u001b[1;34m(iterator)\u001b[0m\n\u001b[0;32m     13\u001b[0m \u001b[38;5;28;01mtry\u001b[39;00m:\n\u001b[0;32m     14\u001b[0m     do_return \u001b[38;5;241m=\u001b[39m \u001b[38;5;28;01mTrue\u001b[39;00m\n\u001b[1;32m---> 15\u001b[0m     retval_ \u001b[38;5;241m=\u001b[39m ag__\u001b[38;5;241m.\u001b[39mconverted_call(ag__\u001b[38;5;241m.\u001b[39mld(step_function), (ag__\u001b[38;5;241m.\u001b[39mld(\u001b[38;5;28mself\u001b[39m), ag__\u001b[38;5;241m.\u001b[39mld(iterator)), \u001b[38;5;28;01mNone\u001b[39;00m, fscope)\n\u001b[0;32m     16\u001b[0m \u001b[38;5;28;01mexcept\u001b[39;00m:\n\u001b[0;32m     17\u001b[0m     do_return \u001b[38;5;241m=\u001b[39m \u001b[38;5;28;01mFalse\u001b[39;00m\n",
      "\u001b[1;31mValueError\u001b[0m: in user code:\n\n    File \"C:\\Users\\CRaxtun\\AppData\\Roaming\\Python\\Python39\\site-packages\\keras\\engine\\training.py\", line 1051, in train_function  *\n        return step_function(self, iterator)\n    File \"C:\\Users\\CRaxtun\\AppData\\Roaming\\Python\\Python39\\site-packages\\keras\\engine\\training.py\", line 1040, in step_function  **\n        outputs = model.distribute_strategy.run(run_step, args=(data,))\n    File \"C:\\Users\\CRaxtun\\AppData\\Roaming\\Python\\Python39\\site-packages\\keras\\engine\\training.py\", line 1030, in run_step  **\n        outputs = model.train_step(data)\n    File \"C:\\Users\\CRaxtun\\AppData\\Roaming\\Python\\Python39\\site-packages\\keras\\engine\\training.py\", line 889, in train_step\n        y_pred = self(x, training=True)\n    File \"C:\\Users\\CRaxtun\\AppData\\Roaming\\Python\\Python39\\site-packages\\keras\\utils\\traceback_utils.py\", line 67, in error_handler\n        raise e.with_traceback(filtered_tb) from None\n    File \"C:\\Users\\CRaxtun\\AppData\\Roaming\\Python\\Python39\\site-packages\\keras\\engine\\input_spec.py\", line 264, in assert_input_compatibility\n        raise ValueError(f'Input {input_index} of layer \"{layer_name}\" is '\n\n    ValueError: Input 0 of layer \"sequential_3\" is incompatible with the layer: expected shape=(None, 17), found shape=(None, 4)\n"
     ]
    }
   ],
   "source": [
    "autoencoder.fit(scaled_df,scaled_df,epochs=15)"
   ]
  },
  {
   "cell_type": "markdown",
   "id": "941ab611-6f1f-46ff-97eb-3fd6e62ee55e",
   "metadata": {},
   "source": [
    "#### Run the scaled data through only the encoder and predict the reduced dimensionalty output"
   ]
  },
  {
   "cell_type": "code",
   "execution_count": 19,
   "id": "6948b2fc",
   "metadata": {},
   "outputs": [
    {
     "ename": "ValueError",
     "evalue": "in user code:\n\n    File \"C:\\Users\\CRaxtun\\AppData\\Roaming\\Python\\Python39\\site-packages\\keras\\engine\\training.py\", line 1845, in predict_function  *\n        return step_function(self, iterator)\n    File \"C:\\Users\\CRaxtun\\AppData\\Roaming\\Python\\Python39\\site-packages\\keras\\engine\\training.py\", line 1834, in step_function  **\n        outputs = model.distribute_strategy.run(run_step, args=(data,))\n    File \"C:\\Users\\CRaxtun\\AppData\\Roaming\\Python\\Python39\\site-packages\\keras\\engine\\training.py\", line 1823, in run_step  **\n        outputs = model.predict_step(data)\n    File \"C:\\Users\\CRaxtun\\AppData\\Roaming\\Python\\Python39\\site-packages\\keras\\engine\\training.py\", line 1791, in predict_step\n        return self(x, training=False)\n    File \"C:\\Users\\CRaxtun\\AppData\\Roaming\\Python\\Python39\\site-packages\\keras\\utils\\traceback_utils.py\", line 67, in error_handler\n        raise e.with_traceback(filtered_tb) from None\n    File \"C:\\Users\\CRaxtun\\AppData\\Roaming\\Python\\Python39\\site-packages\\keras\\engine\\input_spec.py\", line 264, in assert_input_compatibility\n        raise ValueError(f'Input {input_index} of layer \"{layer_name}\" is '\n\n    ValueError: Input 0 of layer \"sequential\" is incompatible with the layer: expected shape=(None, 17), found shape=(None, 4)\n",
     "output_type": "error",
     "traceback": [
      "\u001b[1;31m---------------------------------------------------------------------------\u001b[0m",
      "\u001b[1;31mValueError\u001b[0m                                Traceback (most recent call last)",
      "Cell \u001b[1;32mIn [19], line 1\u001b[0m\n\u001b[1;32m----> 1\u001b[0m encoded_2dim \u001b[38;5;241m=\u001b[39m \u001b[43mencoder\u001b[49m\u001b[38;5;241;43m.\u001b[39;49m\u001b[43mpredict\u001b[49m\u001b[43m(\u001b[49m\u001b[43mscaled_df\u001b[49m\u001b[43m)\u001b[49m\n",
      "File \u001b[1;32m~\\AppData\\Roaming\\Python\\Python39\\site-packages\\keras\\utils\\traceback_utils.py:67\u001b[0m, in \u001b[0;36mfilter_traceback.<locals>.error_handler\u001b[1;34m(*args, **kwargs)\u001b[0m\n\u001b[0;32m     65\u001b[0m \u001b[38;5;28;01mexcept\u001b[39;00m \u001b[38;5;167;01mException\u001b[39;00m \u001b[38;5;28;01mas\u001b[39;00m e:  \u001b[38;5;66;03m# pylint: disable=broad-except\u001b[39;00m\n\u001b[0;32m     66\u001b[0m   filtered_tb \u001b[38;5;241m=\u001b[39m _process_traceback_frames(e\u001b[38;5;241m.\u001b[39m__traceback__)\n\u001b[1;32m---> 67\u001b[0m   \u001b[38;5;28;01mraise\u001b[39;00m e\u001b[38;5;241m.\u001b[39mwith_traceback(filtered_tb) \u001b[38;5;28;01mfrom\u001b[39;00m \u001b[38;5;28mNone\u001b[39m\n\u001b[0;32m     68\u001b[0m \u001b[38;5;28;01mfinally\u001b[39;00m:\n\u001b[0;32m     69\u001b[0m   \u001b[38;5;28;01mdel\u001b[39;00m filtered_tb\n",
      "File \u001b[1;32m~\\AppData\\Local\\Temp\\__autograph_generated_filestytns_z.py:15\u001b[0m, in \u001b[0;36mouter_factory.<locals>.inner_factory.<locals>.tf__predict_function\u001b[1;34m(iterator)\u001b[0m\n\u001b[0;32m     13\u001b[0m \u001b[38;5;28;01mtry\u001b[39;00m:\n\u001b[0;32m     14\u001b[0m     do_return \u001b[38;5;241m=\u001b[39m \u001b[38;5;28;01mTrue\u001b[39;00m\n\u001b[1;32m---> 15\u001b[0m     retval_ \u001b[38;5;241m=\u001b[39m ag__\u001b[38;5;241m.\u001b[39mconverted_call(ag__\u001b[38;5;241m.\u001b[39mld(step_function), (ag__\u001b[38;5;241m.\u001b[39mld(\u001b[38;5;28mself\u001b[39m), ag__\u001b[38;5;241m.\u001b[39mld(iterator)), \u001b[38;5;28;01mNone\u001b[39;00m, fscope)\n\u001b[0;32m     16\u001b[0m \u001b[38;5;28;01mexcept\u001b[39;00m:\n\u001b[0;32m     17\u001b[0m     do_return \u001b[38;5;241m=\u001b[39m \u001b[38;5;28;01mFalse\u001b[39;00m\n",
      "\u001b[1;31mValueError\u001b[0m: in user code:\n\n    File \"C:\\Users\\CRaxtun\\AppData\\Roaming\\Python\\Python39\\site-packages\\keras\\engine\\training.py\", line 1845, in predict_function  *\n        return step_function(self, iterator)\n    File \"C:\\Users\\CRaxtun\\AppData\\Roaming\\Python\\Python39\\site-packages\\keras\\engine\\training.py\", line 1834, in step_function  **\n        outputs = model.distribute_strategy.run(run_step, args=(data,))\n    File \"C:\\Users\\CRaxtun\\AppData\\Roaming\\Python\\Python39\\site-packages\\keras\\engine\\training.py\", line 1823, in run_step  **\n        outputs = model.predict_step(data)\n    File \"C:\\Users\\CRaxtun\\AppData\\Roaming\\Python\\Python39\\site-packages\\keras\\engine\\training.py\", line 1791, in predict_step\n        return self(x, training=False)\n    File \"C:\\Users\\CRaxtun\\AppData\\Roaming\\Python\\Python39\\site-packages\\keras\\utils\\traceback_utils.py\", line 67, in error_handler\n        raise e.with_traceback(filtered_tb) from None\n    File \"C:\\Users\\CRaxtun\\AppData\\Roaming\\Python\\Python39\\site-packages\\keras\\engine\\input_spec.py\", line 264, in assert_input_compatibility\n        raise ValueError(f'Input {input_index} of layer \"{layer_name}\" is '\n\n    ValueError: Input 0 of layer \"sequential\" is incompatible with the layer: expected shape=(None, 17), found shape=(None, 4)\n"
     ]
    }
   ],
   "source": [
    "encoded_2dim = encoder.predict(scaled_df)"
   ]
  },
  {
   "cell_type": "code",
   "execution_count": null,
   "id": "3c498132",
   "metadata": {},
   "outputs": [],
   "source": [
    "encoded_2dim"
   ]
  },
  {
   "cell_type": "markdown",
   "id": "b5dd3b74-0955-4035-bfdb-607a16a78476",
   "metadata": {},
   "source": [
    "#### Join the encoded 2 dimensional data with the original countries index"
   ]
  },
  {
   "cell_type": "code",
   "execution_count": null,
   "id": "7110e6ec",
   "metadata": {},
   "outputs": [],
   "source": [
    "df.transpose().index"
   ]
  },
  {
   "cell_type": "code",
   "execution_count": null,
   "id": "c89314c2",
   "metadata": {},
   "outputs": [],
   "source": [
    "results = pd.DataFrame(data=encoded_2dim,index=df.transpose().index,\n",
    "                      columns=['C1','C2'])"
   ]
  },
  {
   "cell_type": "code",
   "execution_count": null,
   "id": "2cffecd0",
   "metadata": {},
   "outputs": [],
   "source": [
    "results = results.reset_index()"
   ]
  },
  {
   "cell_type": "code",
   "execution_count": null,
   "id": "1059b639",
   "metadata": {},
   "outputs": [],
   "source": [
    "results"
   ]
  },
  {
   "cell_type": "markdown",
   "id": "c9f4bd43-037e-4fad-8503-10c4059ffa9b",
   "metadata": {},
   "source": [
    "#### Plot out these results in a scatterplot, labeled by their respective country"
   ]
  },
  {
   "cell_type": "code",
   "execution_count": null,
   "id": "1c3fd377-a561-4d41-bca6-8753b1c197c3",
   "metadata": {},
   "outputs": [],
   "source": [
    "sns.scatterplot(x='C1',y='C2',data=results,hue='index')"
   ]
  },
  {
   "cell_type": "markdown",
   "id": "5e904478-4661-4a12-a311-f6a0ced2851a",
   "metadata": {},
   "source": [
    "HINT"
   ]
  },
  {
   "cell_type": "markdown",
   "id": "01d91f9b-b350-41a3-8f30-84aaea74373a",
   "metadata": {},
   "source": [
    "Al regresar a ver los datos en la tabla, esto tiene sentido: los Nor-Irlandeses comen mucho más gramos de papas frescas y mucho menos de frutas frescas, queso, pescado y bebidad alcohólicas.\n",
    "\n",
    "Es buena seña que la estructura que se visualiza refleje un hecho grande de la geografía real: Irlanda del Norte es el único de los cuatro países que no están en la isla de Gran Bretaña. (Si tiene confusión entre Inglaterra, el Reino Unido y Gran Bretaña, vea: este video.)"
   ]
  }
 ],
 "metadata": {
  "kernelspec": {
   "display_name": "Python 3 (ipykernel)",
   "language": "python",
   "name": "python3"
  },
  "language_info": {
   "codemirror_mode": {
    "name": "ipython",
    "version": 3
   },
   "file_extension": ".py",
   "mimetype": "text/x-python",
   "name": "python",
   "nbconvert_exporter": "python",
   "pygments_lexer": "ipython3",
   "version": "3.9.13"
  }
 },
 "nbformat": 4,
 "nbformat_minor": 5
}
