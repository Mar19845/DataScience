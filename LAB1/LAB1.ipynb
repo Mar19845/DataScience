{
 "cells": [
  {
   "cell_type": "code",
   "execution_count": 1,
   "id": "c1ced003-156d-4a8d-a55c-1ba66b395370",
   "metadata": {},
   "outputs": [
    {
     "name": "stderr",
     "output_type": "stream",
     "text": [
      "c:\\users\\craxt\\appdata\\local\\programs\\python\\python39\\lib\\site-packages\\tqdm\\auto.py:22: TqdmWarning: IProgress not found. Please update jupyter and ipywidgets. See https://ipywidgets.readthedocs.io/en/stable/user_install.html\n",
      "  from .autonotebook import tqdm as notebook_tqdm\n"
     ]
    }
   ],
   "source": [
    "import pandas as pd\n",
    "import numpy as np\n",
    "import matplotlib.pyplot as plt\n",
    "from sklearn import datasets\n",
    "import seaborn as sns\n",
    "import sklearn.cluster as cluster\n",
    "import sklearn.metrics as metrics\n",
    "import sklearn.preprocessing\n",
    "import scipy.cluster.hierarchy as sch\n",
    "#import skfuzzy as fuzz\n",
    "import pylab\n",
    "import sklearn.mixture as mixture\n",
    "#import pyclustertend \n",
    "import random\n",
    "#from yellowbrick.cluster import SilhouetteVisualizer\n",
    "#from yellowbrick.datasets import load_nfl\n",
    "import scipy.stats as stats\n",
    "%matplotlib inline\n",
    "from scipy.stats import normaltest\n",
    "#new import\n",
    "from sklearn import linear_model\n",
    "from sklearn.metrics import mean_squared_error, make_scorer, r2_score\n",
    "from sklearn.linear_model import LinearRegression\n",
    "from scipy.stats import normaltest\n",
    "from sklearn.linear_model import Ridge\n",
    "# yellowbrick.regressor import ResidualsPlot\n",
    "import statsmodels.api as sm\n",
    "from statsmodels.stats.outliers_influence import variance_inflation_factor\n",
    "from pandas_profiling import ProfileReport\n",
    "from helpers import *"
   ]
  },
  {
   "cell_type": "code",
   "execution_count": null,
   "id": "b8a47dbe-fec5-466b-889f-c3315ad5128d",
   "metadata": {},
   "outputs": [],
   "source": [
    "pd.set_option('display.max_columns', None)\n",
    "df = pd.read_csv('train.csv')"
   ]
  },
  {
   "cell_type": "code",
   "execution_count": null,
   "id": "f387ef51-fa19-442e-b0b0-4f94d8a24d88",
   "metadata": {},
   "outputs": [],
   "source": [
    "df = df.drop(columns=['Id'])"
   ]
  },
  {
   "cell_type": "code",
   "execution_count": null,
   "id": "52d406dd-50fc-4aa7-a28a-fd2c10dac417",
   "metadata": {},
   "outputs": [],
   "source": [
    "df.head()"
   ]
  },
  {
   "cell_type": "code",
   "execution_count": null,
   "id": "364acded-f7da-4a6e-83dc-4530a5a75dec",
   "metadata": {},
   "outputs": [],
   "source": [
    "df.shape"
   ]
  },
  {
   "cell_type": "markdown",
   "id": "91713040-0495-4d23-bce3-e4c857745131",
   "metadata": {},
   "source": [
    "# Descripcion de los Datos Crudos"
   ]
  },
  {
   "cell_type": "code",
   "execution_count": null,
   "id": "297fa51a-963d-47f1-a0f6-e263573ad869",
   "metadata": {},
   "outputs": [],
   "source": [
    "df.info()"
   ]
  },
  {
   "cell_type": "raw",
   "id": "0706e4e9",
   "metadata": {},
   "source": [
    "MSSubClass: clase de construcción\n",
    "MSZoning: clasificación de la zona\n",
    "LotFrontage: pies lineales de calle de la parcela\n",
    "LotArea: tamaño de la parcela en pies cuadrados\n",
    "Street: tipo de acceso por carretera\n",
    "Alley: tipo de acceso al callejón\n",
    "LotShape: forma de la parcela\n",
    "LandContour: planitud de la parcela\n",
    "Utilities: servicios públicos disponibles\n",
    "LotConfig: Configuración de parcela\n",
    "LandSlope: pendiente de la parcela\n",
    "Neighborhood: ubicación física dentro de los límites de la ciudad de Ames\n",
    "Condition1: proximidad a la carretera principal o al ferrocarril\n",
    "Condition2: proximidad a la carretera principal o al ferrocarril (si hay un segundo)\n",
    "BldgType: tipo de vivienda\n",
    "HouseStyle: estilo de vivienda\n",
    "OverallQual: calidad general del material y del acabado\n",
    "OverallCond: condición general\n",
    "YearBuilt: fecha original de construcción\n",
    "YearRemodAdd: fecha de remodelación\n",
    "RoofStyle: tipo de cubierta\n",
    "RoofMatl: material del techo\n",
    "Exterior1st: revestimiento exterior de la casa\n",
    "Exterior2nd: revestimiento exterior de la casa (si hay más de un material)\n",
    "MasVnrType: tipo de revestimiento de mampostería\n",
    "MasVnrArea: área de revestimiento de mampostería en pies cuadrados\n",
    "ExterQual: calidad del material exterior\n",
    "ExterCond: estado del material en el exterior\n",
    "Foundation: tipo de cimentación\n",
    "BsmtQual: altura del sótano\n",
    "BsmtCond: estado general del sótano\n",
    "BsmtExposure: paredes del sótano a nivel de calle o de jardín\n",
    "BsmtFinType1: calidad del área acabada del sótano\n",
    "BsmtFinSF1: pies cuadrados de la superficie acabada tipo 1\n",
    "BsmtFinType2: calidad de la segunda superficie acabada (si existe)\n",
    "BsmtFinSF2: Pies cuadrados de la superficie acabada tipo 2\n",
    "BsmtUnfSF: pies cuadrados del área sin terminar del sótano\n",
    "TotalBsmtSF: pies cuadrados totales del sótano\n",
    "Heating: tipo de calefacción\n",
    "HeatingQC: calidad y estado de la calefacción\n",
    "CentralAir: aire acondicionado central\n",
    "Electrical: sistema eléctrico\n",
    "1erFlrSF: área en pies cuadrados de la primera planta (o planta baja)\n",
    "2ndFlrSF: área en pies cuadrados de la segunda planta\n",
    "LowQualFinSF: pies cuadrados acabados de baja calidad (todos los pisos)\n",
    "GrLivArea: superficie habitable por encima del nivel del suelo en pies cuadrados\n",
    "BsmtFullBath: cuartos de baño completos en el sótano\n",
    "BsmtHalfBath: medio baño del sótano\n",
    "FullBath: baños completos sobre el nivel del suelo\n",
    "HalfBath: medios baños sobre el nivel del suelo\n",
    "Bedroom: número de dormitorios por encima del nivel del sótano\n",
    "Kitchen: número de cocinas\n",
    "KitchenQual: calidad de la cocina\n",
    "TotRmsAbvGrd: total de habitaciones por encima del nivel del suelo (no incluye baños)\n",
    "Functional: valoración de la funcionalidad de la vivienda\n",
    "Fireplaces: número de chimeneas\n",
    "FireplaceQu: calidad de la chimenea\n",
    "GarageType: ubicación del garaje\n",
    "GarageYrBlt: año de construcción del garaje\n",
    "GarageFinish: acabado interior del garaje\n",
    "GarageCars: tamaño del garaje en capacidad de coches\n",
    "GarageArea: tamaño del garaje en pies cuadrados\n",
    "GarageQual: calidad de garaje\n",
    "GarageCond: condición de garaje\n",
    "PavedDrive: calzada asfaltada\n",
    "WoodDeckSF: area de plataforma de madera en pies cuadrados\n",
    "OpenPorchSF: área de porche abierto en pies cuadrados\n",
    "EnclosedPorch: área de porche cerrada en pies cuadrados\n",
    "3SsnPorch: área de porche de tres estaciones en pies cuadrados\n",
    "ScreenPorch: superficie acristalada del porche en pies cuadrados\n",
    "PoolArea: área de la piscina en pies cuadrados\n",
    "PoolQC: calidad de la piscina\n",
    "Fence: calidad de la valla\n",
    "MiscFeature: característica miscelánea no cubierta en otras categorías\n",
    "MiscVal: valor en dólares de la característica miscelánea\n",
    "MoSold: mes de venta\n",
    "YrSold: año de venta\n",
    "SaleType: tipo de venta\n",
    "SaleCondition: Condiciones de venta"
   ]
  },
  {
   "cell_type": "raw",
   "id": "8982a664",
   "metadata": {},
   "source": [
    "#distribicion de los datos en el csv\n",
    "df.nunique()"
   ]
  },
  {
   "cell_type": "code",
   "execution_count": null,
   "id": "18a02ae7",
   "metadata": {},
   "outputs": [],
   "source": [
    "#informcacion sobre el tipo de datos\n",
    "df.dtypes"
   ]
  },
  {
   "cell_type": "markdown",
   "id": "e535e23a-e4e1-4305-bfa0-e576046f9142",
   "metadata": {},
   "source": [
    "# Descripcion de los Datos Numericos"
   ]
  },
  {
   "cell_type": "code",
   "execution_count": null,
   "id": "94e525d1",
   "metadata": {},
   "outputs": [],
   "source": [
    "df.describe().transpose()"
   ]
  },
  {
   "cell_type": "markdown",
   "id": "3058e4a9-8d95-4ba5-ac5f-0c800545599d",
   "metadata": {},
   "source": [
    "# Informacion de las variables categoricas"
   ]
  },
  {
   "cell_type": "code",
   "execution_count": null,
   "id": "b9e4d963-7b9f-434a-9bdb-87976d55cc8e",
   "metadata": {
    "scrolled": true
   },
   "outputs": [],
   "source": [
    "df.describe(include=[object]).transpose()"
   ]
  },
  {
   "cell_type": "markdown",
   "id": "130485f1-dfa6-45b8-97f2-f5307ef07e08",
   "metadata": {},
   "source": [
    "# Get all numeric columns"
   ]
  },
  {
   "cell_type": "code",
   "execution_count": null,
   "id": "863be5d1-1408-4c55-8e41-e78c32e6228d",
   "metadata": {},
   "outputs": [],
   "source": [
    "df = df.select_dtypes(include=np.number)"
   ]
  },
  {
   "cell_type": "code",
   "execution_count": null,
   "id": "c14da8b5-672c-4108-b0ce-51a5ec4da9ec",
   "metadata": {},
   "outputs": [],
   "source": [
    "df.shape"
   ]
  },
  {
   "cell_type": "code",
   "execution_count": null,
   "id": "b2c01b44",
   "metadata": {},
   "outputs": [],
   "source": [
    "### Analisis univariable \"SalePrice\""
   ]
  },
  {
   "cell_type": "raw",
   "id": "f39e665e",
   "metadata": {},
   "source": [
    "La variable 'SalePrice' es la variable objetivo de este conjunto de datos. En pasos posteriores a este análisis exploratorio de datos se realizaría una predicción del valor de esta variable, por lo que voy a estudiarla con mayor detenimiento:"
   ]
  },
  {
   "cell_type": "code",
   "execution_count": null,
   "id": "edc07aba",
   "metadata": {},
   "outputs": [],
   "source": [
    "# Resumen de estadística descriptiva:\n",
    "\n",
    "df['SalePrice'].describe()"
   ]
  },
  {
   "cell_type": "code",
   "execution_count": null,
   "id": "4ead397a",
   "metadata": {},
   "outputs": [],
   "source": [
    "# Histograma:\n",
    "\n",
    "sns.distplot(df['SalePrice']);"
   ]
  },
  {
   "cell_type": "code",
   "execution_count": null,
   "id": "085318e5",
   "metadata": {},
   "outputs": [],
   "source": [
    "# Asimetría y curtosis:\n",
    "\n",
    "print(\"Skewness: %f\" % df['SalePrice'].skew())\n",
    "print(\"Kurtosis: %f\" % df['SalePrice'].kurt())"
   ]
  },
  {
   "cell_type": "raw",
   "id": "7cc98165",
   "metadata": {},
   "source": [
    "A simple vista se pueden apreciar:\n",
    "\n",
    "Una desviación con respecto a la distribución normal.\n",
    "Una asimetría positiva.\n",
    "Algunos picos."
   ]
  },
  {
   "cell_type": "markdown",
   "id": "cb30cebf",
   "metadata": {},
   "source": [
    "#### relacion de dispersion grlivarea/saleprice:"
   ]
  },
  {
   "cell_type": "code",
   "execution_count": null,
   "id": "610241e8",
   "metadata": {},
   "outputs": [],
   "source": [
    "# Diagrama de dispersión grlivarea/saleprice:\n",
    "\n",
    "var = 'GrLivArea'\n",
    "data = pd.concat([df['SalePrice'], df[var]], axis=1)\n",
    "data.plot.scatter(x=var, y='SalePrice', alpha = 0.5);"
   ]
  },
  {
   "cell_type": "code",
   "execution_count": null,
   "id": "301d43d3",
   "metadata": {},
   "outputs": [],
   "source": [
    "# Diagrama de dispersión totalbsmtsf/saleprice:\n",
    "\n",
    "var = 'TotalBsmtSF'\n",
    "data = pd.concat([df['SalePrice'], df[var]], axis=1)\n",
    "data.plot.scatter(x=var, y='SalePrice', alpha = 0.5);"
   ]
  },
  {
   "cell_type": "markdown",
   "id": "2468c22f",
   "metadata": {},
   "source": [
    "### relacion con variables cateogircas"
   ]
  },
  {
   "cell_type": "code",
   "execution_count": null,
   "id": "be287117",
   "metadata": {},
   "outputs": [],
   "source": [
    "# Diagrama de cajas overallqual/saleprice:\n",
    "\n",
    "var = 'OverallQual'\n",
    "data = pd.concat([df['SalePrice'], df[var]], axis=1)\n",
    "f, ax = plt.subplots(figsize=(8, 6))\n",
    "fig = sns.boxplot(x=var, y=\"SalePrice\", data=data)\n",
    "fig.axis(ymin=0, ymax=800000);"
   ]
  },
  {
   "cell_type": "code",
   "execution_count": null,
   "id": "6f0afa71",
   "metadata": {},
   "outputs": [],
   "source": [
    "var = 'YearBuilt'\n",
    "data = pd.concat([df['SalePrice'], df[var]], axis=1)\n",
    "f, ax = plt.subplots(figsize=(16, 8))\n",
    "fig = sns.boxplot(x=var, y=\"SalePrice\", data=data)\n",
    "fig.axis(ymin=0, ymax=800000);\n",
    "plt.xticks(rotation=90);"
   ]
  },
  {
   "cell_type": "raw",
   "id": "008a2b63",
   "metadata": {},
   "source": [
    "'GrLivArea' y 'TotalBsmtSF' mantienen una relación lineal positiva con 'SalePrice', aumentando en el mismo sentido. En el caso de 'TotalBsmtSF', la pendiente de esta relación es muy acentuada.\n",
    "'OverallQual' y 'YearBuilt' también parecen relacionadas con 'SalePrice' (más fuerte en el primer caso), tal y como se puede observar en los diagramas de cajas.\n",
    "Sólo he explorado cuatro variables, pero hay muchas otras a analizar."
   ]
  },
  {
   "cell_type": "markdown",
   "id": "54aa6306-b6ae-46c4-ae3f-766d8242411b",
   "metadata": {},
   "source": [
    "# Normalizar Datos variables numericas"
   ]
  },
  {
   "cell_type": "code",
   "execution_count": null,
   "id": "d8d70367-4c2e-4370-a06f-c72459518953",
   "metadata": {},
   "outputs": [],
   "source": [
    "df = (df-df.min())/(df.max()-df.min())"
   ]
  },
  {
   "cell_type": "code",
   "execution_count": null,
   "id": "c23f9248-f991-472d-b503-f775387d3008",
   "metadata": {},
   "outputs": [],
   "source": [
    "df.describe().transpose()"
   ]
  },
  {
   "cell_type": "code",
   "execution_count": null,
   "id": "55bbc9bd-4274-4cca-8bc7-318502db9a80",
   "metadata": {},
   "outputs": [],
   "source": [
    "for col in df.columns:\n",
    "    graph_of_normalization(df,col)\n",
    "    "
   ]
  },
  {
   "cell_type": "markdown",
   "id": "e3408f8c",
   "metadata": {},
   "source": [
    "### Analisis de correlacion variables numericas"
   ]
  },
  {
   "cell_type": "code",
   "execution_count": null,
   "id": "8dbd415b",
   "metadata": {},
   "outputs": [],
   "source": [
    "df_corr = df.corr()\n",
    "fig, ax = plt.subplots(figsize=(30,30))  \n",
    "sns.heatmap(df_corr, xticklabels=df_corr.columns, yticklabels=df_corr.columns,annot=True, ax=ax)\n",
    "\n"
   ]
  },
  {
   "cell_type": "raw",
   "id": "c304c724",
   "metadata": {},
   "source": [
    "# A primera vista hay dos variables que llaman la atención: 'TotalBsmtSF' y '1stFlrSF', seguidas por las variables 'GarageX'. En ambos casos parece haber una correlación significativa; en realidad es tan fuerte que podría indicar multicolinealidad, es decir, que básicamente ofrecen la misma información.\n",
    "\n",
    "Con respecto a las correlaciones de la variable 'SalePrice', destacan las vistas anteriormente ('GrLivArea', 'TotalBsmtSF' y 'OverallQual'), pero hay otras que también deberían ser tenidas en cuenta."
   ]
  },
  {
   "cell_type": "markdown",
   "id": "6b018eb7",
   "metadata": {},
   "source": [
    "### Matriz de correlacion \"saleprice\""
   ]
  },
  {
   "cell_type": "code",
   "execution_count": null,
   "id": "558197fa",
   "metadata": {},
   "outputs": [],
   "source": [
    "# Matriz de correlación\n",
    "k = 10 # Número de variables.\n",
    "cols = df_corr.nlargest(k, 'SalePrice')['SalePrice'].index\n",
    "cm = np.corrcoef(df[cols].values.T)\n",
    "sns.set(font_scale = 1.0)\n",
    "hm = sns.heatmap(cm, cbar = True, annot = True, square = True, fmt = '.2f', annot_kws = {'size': 10}, yticklabels = cols.values, xticklabels = cols.values)\n",
    "plt.show()"
   ]
  },
  {
   "cell_type": "code",
   "execution_count": null,
   "id": "e89cac8b",
   "metadata": {},
   "outputs": [],
   "source": [
    "corr = df.corr()\n",
    "corr[['SalePrice']].sort_values(by = 'SalePrice',ascending = False).style.background_gradient()"
   ]
  },
  {
   "cell_type": "raw",
   "id": "d3701957",
   "metadata": {},
   "source": [
    "En estas matrices de correlación se puede observar:\n",
    "\n",
    "'OverallQual', 'GrLivArea' y 'TotalBsmtSF' están fuertemente correladas con 'SalePrice'.\n",
    "'GarageCars' y 'GarageArea' también están fuertemente correladas pero, como he comentado anteriormente, el número de coches que se pueden aparcar en un garaje es una consecuencia de su superficie. Es por esto que sólo voy a mantener una de estas variables en el análisis, 'GarageCars', ya que está más correlada con 'SalePrice'.\n",
    "'TotalBsmtSF' y '1stFloor' plantean la misma situación. En este caso mantendré 'TotalBsmtSF'.\n",
    "'FullBath' también está correlada con 'SalePrice'. Parece que a la gente le gusta darse un baño en casa...\n",
    "'TotRmsAbvGrd' y 'GrLivArea', otro caso de multicolinealidad.\n",
    "'YearBuilt' también está ligeramente correlada con 'SalePrice'."
   ]
  },
  {
   "cell_type": "markdown",
   "id": "98803b7c",
   "metadata": {},
   "source": [
    "### Diagramas de dispersión entre 'SalePrice' y sus variables correladas"
   ]
  },
  {
   "cell_type": "code",
   "execution_count": null,
   "id": "c4bd4d89",
   "metadata": {},
   "outputs": [],
   "source": [
    "# Scatter plot:\n",
    "\n",
    "sns.set()\n",
    "cols = ['SalePrice', 'OverallQual', 'GrLivArea', 'GarageCars', 'TotalBsmtSF', 'FullBath', 'YearBuilt']\n",
    "sns.pairplot(df[cols], size = 2.5)\n",
    "plt.show();"
   ]
  },
  {
   "cell_type": "markdown",
   "id": "f65c23ac-61a4-4e63-b834-3ce7ad0e8949",
   "metadata": {},
   "source": [
    "# Clean the df"
   ]
  },
  {
   "cell_type": "code",
   "execution_count": null,
   "id": "9f731b6a-0db9-449c-a54d-cad011f66831",
   "metadata": {},
   "outputs": [],
   "source": [
    "df=clean_dataset(df)"
   ]
  },
  {
   "cell_type": "code",
   "execution_count": null,
   "id": "91da57ba-9483-46e4-bd44-68c32b946947",
   "metadata": {},
   "outputs": [],
   "source": [
    "df.shape"
   ]
  },
  {
   "cell_type": "code",
   "execution_count": null,
   "id": "be3d81d1-b7c1-4f89-bc1d-c4f6078105cf",
   "metadata": {},
   "outputs": [],
   "source": [
    "df.describe().transpose()"
   ]
  },
  {
   "cell_type": "code",
   "execution_count": null,
   "id": "3d9820bb",
   "metadata": {},
   "outputs": [],
   "source": [
    "# hay data que no aporta nada, asi que le doy un drop a esas columnas\n",
    "df=df.drop(['EnclosedPorch', '3SsnPorch' , 'ScreenPorch', 'PoolArea', 'MiscVal', 'KitchenAbvGr', 'BsmtHalfBath', 'LowQualFinSF', 'BsmtFinSF2', 'KitchenAbvGr'], axis=1)"
   ]
  },
  {
   "cell_type": "code",
   "execution_count": null,
   "id": "e135cb7c",
   "metadata": {},
   "outputs": [],
   "source": [
    "print('Cantidad de Filas y columnas:',df.shape)\n",
    "print('Nombre columnas:',df.columns)"
   ]
  },
  {
   "cell_type": "code",
   "execution_count": null,
   "id": "ba339d77",
   "metadata": {},
   "outputs": [],
   "source": [
    "df.info()"
   ]
  },
  {
   "cell_type": "code",
   "execution_count": null,
   "id": "f130f896-84e0-4057-bee3-b6df3f9c8619",
   "metadata": {},
   "outputs": [],
   "source": [
    "df.describe()"
   ]
  },
  {
   "cell_type": "markdown",
   "id": "64f141a9",
   "metadata": {},
   "source": []
  },
  {
   "cell_type": "code",
   "execution_count": null,
   "id": "7583fe5b",
   "metadata": {},
   "outputs": [],
   "source": [
    "df.head()"
   ]
  },
  {
   "cell_type": "markdown",
   "id": "2c363b4a",
   "metadata": {},
   "source": [
    "### Análisis de Componentes Principales."
   ]
  },
  {
   "cell_type": "raw",
   "id": "fe08dc16",
   "metadata": {},
   "source": [
    "Esta tecnica si es posible implementarla porque  tenemos una población de individuos de los que tenemos mucha información relativa a las opiniones, las prácticas y el estatus (sexo, edad, etc.), ver las similitudes y oposiciones entre las características de los individuos."
   ]
  },
  {
   "cell_type": "code",
   "execution_count": null,
   "id": "86b0b73a",
   "metadata": {},
   "outputs": [],
   "source": [
    "from sklearn.decomposition import PCA\n",
    "from sklearn.preprocessing import MinMaxScaler, StandardScaler"
   ]
  },
  {
   "cell_type": "code",
   "execution_count": null,
   "id": "a7af6133",
   "metadata": {},
   "outputs": [],
   "source": [
    "X = df\n",
    "X2 = X\n",
    "X = MinMaxScaler().fit_transform(X)\n",
    "X = pd.DataFrame(X,columns=X2.columns).set_index(X2.index)\n",
    "X = X.dropna()\n",
    "X"
   ]
  },
  {
   "cell_type": "code",
   "execution_count": null,
   "id": "b31ea246",
   "metadata": {},
   "outputs": [],
   "source": [
    "pca = PCA(n_components=3)\n",
    "pca.fit(X)\n",
    "print(pca.explained_variance_ratio_)\n",
    "print(pca.singular_values_)"
   ]
  },
  {
   "cell_type": "raw",
   "id": "56bf03ec",
   "metadata": {},
   "source": [
    "- En el primer resultado podemos obtener los Porcentaje de varianza explicado por cada uno de los componentes seleccionados.\n",
    "- EN el segundo resultado podemos obtener Los valores singulares correspondientes a cada uno de los componentes seleccionados. Los valores singulares son iguales a las 2 normas de las variables de n_componentes en el espacio de dimensión inferior."
   ]
  },
  {
   "cell_type": "markdown",
   "id": "4293db99",
   "metadata": {},
   "source": [
    "### Reglas de asociacion esto falta"
   ]
  },
  {
   "cell_type": "raw",
   "id": "6977989a",
   "metadata": {},
   "source": [
    "Reglas de asociación\n",
    "- Construye reglas de asociación usando el algoritmo a priori.\n",
    "- Discute sobre las reglas de asociación más interesantes teniendo en cuenta sus niveles de\n",
    "confianza y soporte."
   ]
  },
  {
   "cell_type": "markdown",
   "id": "f3633aa5",
   "metadata": {},
   "source": [
    "### Hallazgos y conclusiones  esto falta"
   ]
  },
  {
   "cell_type": "raw",
   "id": "a2bc7d06",
   "metadata": {},
   "source": [
    "Hallazgos y conclusiones.\n",
    "- Hace un resumen de los hallazgos en el análisis exploratorio\n",
    "- Llega a conclusiones sobre el análisis de componentes principales\n",
    "- Determina las reglas de asociación más interesantes."
   ]
  }
 ],
 "metadata": {
  "kernelspec": {
   "display_name": "Python 3 (ipykernel)",
   "language": "python",
   "name": "python3"
  },
  "language_info": {
   "codemirror_mode": {
    "name": "ipython",
    "version": 3
   },
   "file_extension": ".py",
   "mimetype": "text/x-python",
   "name": "python",
   "nbconvert_exporter": "python",
   "pygments_lexer": "ipython3",
   "version": "3.9.6"
  }
 },
 "nbformat": 4,
 "nbformat_minor": 5
}
